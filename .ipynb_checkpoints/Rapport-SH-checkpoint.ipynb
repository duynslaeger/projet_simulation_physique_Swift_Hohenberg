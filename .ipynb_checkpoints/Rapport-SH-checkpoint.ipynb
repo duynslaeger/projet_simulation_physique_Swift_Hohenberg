{
 "cells": [
  {
   "cell_type": "markdown",
   "metadata": {
    "pycharm": {
     "name": "#%% md\n"
    }
   },
   "source": [
    "<center><font size=4> Université Catholique de Louvain </center>\n",
    " <h1><center><font size=5> LPHYS1303 - Simulation Numérique en Physique </center></h1>\n",
    " <h1><center><font size=6> Projet Méthodes Spectrales : Formation de pattern dans l'équation de Swift-Hohenberg </center></h1>\n",
    " <h1><center><font size=4>\n",
    "     Duynslaeger Sacha : 50951900 <br>\n",
    "     Léonard Guillaume : 16321800 <br>\n",
    "     </center></h1>\n",
    "\n",
    "<img src=\"figures/ucl.png\" width = \"200\">\n",
    "\n",
    "__________________________\n",
    "<br> <br>"
   ]
  },
  {
   "cell_type": "markdown",
   "metadata": {
    "pycharm": {
     "name": "#%% md\n"
    }
   },
   "source": [
    "# <font size=5> 0. Introduction <br> </font>\n",
    "***\n",
    "\n",
    "L'équation de Swift-Hohenberg est une équation non-linéaire partielle introduite pour étudier les fluctuations thermiques d'un fluide proche de l'instabilité convective de Rayleigh-Benard. Elle est également connue pour son comportement qui tend à la formation de pattern. Ce sont ces pattern que nous allons analyser au cours de ce projet. \n",
    "\n",
    "L'équation de Swift-Hohenberg est la suivante: <br> <br>\n",
    "\n",
    "<center> $\\Large \\frac{\\partial u}{\\partial t} =(r-1) u - 2 \\frac{\\partial^2 u}{\\partial x^2} - \\frac{\\partial^4 u}{\\partial x^4} - u^3. $  <br> </center>\n",
    "\n",
    "\n",
    "<br>\n",
    "\n",
    "Où $r$ représente une mesure de la \"distance\" de la chaleur par rapport à la valeur minimum requise pour qu'il y ait convection. "
   ]
  },
  {
   "cell_type": "markdown",
   "metadata": {
    "pycharm": {
     "name": "#%% md\n"
    }
   },
   "source": [
    "# <font size=5> 1. Reproduction de la figure de l'énoncé <br> </font>\n",
    "***\n",
    "\n",
    "Pour obtenir la même figure que celle de l'énoncé, nous avons suivit les consignes qui nous avaient été fournies. Suivant les calculs décrits dans l'énoncé, nous avons appliqué les formules suivantes : <br> <br>\n",
    "\n",
    "$$ \\hat{u}_k(t + \\Delta t) = \\frac{1 + \\frac{\\Delta t}{2}\\mathcal{f}_\\mathscr{L}(k)}{1 - \\frac{\\Delta t}{2}\\mathcal{f}_\\mathscr{L}(k)}\\hat{u}_k(t) - \\frac{\\frac{3}{2}\\mathscr{F}[u^3(x,t)] - \\frac{1}{2}\\mathscr{F}[u^3(x,t - \\Delta t)]}{1 - \\frac{\\Delta t}{2}\\mathcal{f}_\\mathscr{L}(k)}\\Delta t$$ <br>\n",
    "\n",
    "Avec : <br>\n",
    "\n",
    "$$\\mathcal{f}_\\mathscr{L}(k) = r - 1 + 2(\\frac{2\\pi}{L}k)^2 - (\\frac{2\\pi}{L}k)^4$$ <br>\n",
    "\n",
    "Ce qui nous permet ensuite de trouver $u(x, t + \\Delta t)$ avec l'inverse de la tranformée de Fourier : <br><br>\n",
    "$$ u(x, t + \\Delta t) = \\mathscr{F}^{-1}[\\hat{u}_k(t + \\Delta t)]$$\n",
    "<br>\n",
    "\n",
    "Afin de répliquer la figure de l'énoncé, nous avons pris un domaine $x \\in [0, 100]$, un domaine discrétisé de 1024 points, un pas de temps $\\Delta t = 0.05$ et avons pris comme condition initiale : <br><br>\n",
    "\n",
    "$$u(x,0) = cos(\\frac{2\\pi x}{100}) + 0.1cos(\\frac{4\\pi x}{100})$$\n",
    "<br>\n",
    "\n",
    "Le code utilisé pour obtenir la figure recherchée se trouve ci dessous.\n"
   ]
  },
  {
   "cell_type": "code",
   "execution_count": 4,
   "metadata": {
    "pycharm": {
     "is_executing": true,
     "name": "#%%\n"
    }
   },
   "outputs": [
    {
     "data": {
      "image/png": "[encoded data removed]",
      "text/plain": [
       "<Figure size 432x288 with 2 Axes>"
      ]
     },
     "metadata": {
      "needs_background": "light"
     },
     "output_type": "display_data"
    }
   ],
   "source": [
    "\"\"\" Import \"\"\"\n",
    "import numpy as np\n",
    "import matplotlib.pyplot as plt\n",
    "\n",
    "N = 1024\n",
    "r = 0.2\n",
    "L = 100\n",
    "x = np.linspace(0,L-L/N,N)\n",
    "dt = 0.05\n",
    "Nt = int(200/dt)\n",
    "t = np.linspace(0,200,Nt)\n",
    "\n",
    "un0 = np.cos(2*np.pi*x/L) + 0.1*np.cos(4*np.pi*x/L)\n",
    "uk0 = np.fft.fftshift(np.fft.fft(un0))\n",
    "\n",
    "k = np.linspace(-N/2,N/2-1,N)\n",
    "uk = np.zeros((Nt, N),dtype=complex)\n",
    "un = np.zeros((Nt, N))\n",
    "uk[0] = uk0\n",
    "un[0] = un0\n",
    "\n",
    "fl = r - 1 + 2*((2*np.pi*k/L)**2) - ((2*np.pi*k/L)**4)\n",
    "Fu = np.fft.fftshift(np.fft.fft(un[0]**3))\n",
    "uk[1] = ((1+0.5*dt*fl)/(1-0.5*dt*fl))*uk[0] + dt*((Fu)/(1-0.5*dt*fl))\n",
    "un[1] = (np.fft.ifft(np.fft.ifftshift(uk[1]))).real\n",
    "for i in range(2,Nt):\n",
    "    Fu = np.fft.fftshift(np.fft.fft(un[i-1]**3))\n",
    "    FuAv = np.fft.fftshift(np.fft.fft(un[i-2]**3))\n",
    "    uk[i] = ((1+0.5*dt*fl)/(1-0.5*dt*fl))*uk[i-1] - dt*((1.5*Fu-0.5*FuAv)/(1-0.5*dt*fl))\n",
    "    un[i] = (np.fft.ifft(np.fft.ifftshift(uk[i]))).real\n",
    "\n",
    "c = np.linspace(-1,1,101)\n",
    "[xx,tt]=np.meshgrid(x,t)\n",
    "plt.contourf(xx,tt,un, c, cmap = 'jet')\n",
    "plt.colorbar()\n",
    "plt.xlabel('x')\n",
    "plt.ylabel('t')\n",
    "plt.title(\"r = {}, L = {}\".format(r,L))\n",
    "plt.show()"
   ]
  },
  {
   "cell_type": "markdown",
   "metadata": {
    "pycharm": {
     "name": "#%% md\n"
    }
   },
   "source": [
    "# <font size=5> 2. Influence de $r$ et $L$ sur la solution <br> </font>\n",
    "***\n",
    "\n",
    "Une fois la figure de l'énoncé obtenue, nous avons joué avec les paramètres $r$ et $L$ afin d'analyser les influences de ces modifications sur la solution une fois la stationnarité atteinte. Voici ce que nous avons obtenu : "
   ]
  },
  {
   "cell_type": "markdown",
   "metadata": {
    "pycharm": {
     "name": "#%% md\n"
    }
   },
   "source": [
    "## <font size=4> 2.1 Influence de $r$ et $L$ sur l'amplitude<br> </font>\n",
    "\n",
    "<table><tr>\n",
    "<td> <img src=\"figures/spectral/u_fct_de_r.png\" alt=\"Drawing\" style=\"width: 500px;\"/> </td>\n",
    "<td> <img src=\"figures/spectral/u_fct_de_L.png\" alt=\"Drawing\" style=\"width: 500px;\"/> </td>\n",
    "</tr></table>"
   ]
  },
  {
   "cell_type": "markdown",
   "metadata": {
    "pycharm": {
     "name": "#%% md\n"
    }
   },
   "source": [
    "## <font size=4> 2.2 Influence de $r$ et $L$ sur la longueur d'onde<br> </font>\n",
    "\n",
    "<table><tr>\n",
    "<td> <img src=\"figures/spectral/lambda_fct_de_r.png\" alt=\"Drawing\" style=\"width: 500px;\"/> </td>\n",
    "<td> <img src=\"figures/spectral/lambda_fct_de_L.png\" alt=\"Drawing\" style=\"width: 500px;\"/> </td>\n",
    "</tr></table>"
   ]
  },
  {
   "cell_type": "markdown",
   "metadata": {},
   "source": [
    "## <font size=4> 2.3 Influence de $r$ et $L$ sur la stationnarité<br> </font>\n",
    "\n",
    "## <font size=3> Influence de $r$<br> </font>\n",
    "\n",
    "<table><tr>\n",
    "<td> <img src=\"figures/spectral/dependance_r_02.png\" alt=\"Drawing\" style=\"width: 300px;\"/> </td>\n",
    "<td> <img src=\"figures/spectral/dependance_r_04.png\" alt=\"Drawing\" style=\"width: 300px;\"/> </td>\n",
    "<td> <img src=\"figures/spectral/dependance_r_06.png\" alt=\"Drawing\" style=\"width: 300px;\"/> </td>\n",
    "</tr></table>\n",
    "\n",
    "<br>\n",
    "\n",
    "## <font size=3> Influence de $L$<br> </font>\n",
    "\n",
    "<table><tr>\n",
    "<td> <img src=\"figures/spectral/dependance_r_02.png\" alt=\"Drawing\" style=\"width: 300px;\"/> </td>\n",
    "<td> <img src=\"figures/spectral/dependance_L_150.png\" alt=\"Drawing\" style=\"width: 300px;\"/> </td>\n",
    "<td> <img src=\"figures/spectral/dependance_L_200.png\" alt=\"Drawing\" style=\"width: 300px;\"/> </td>\n",
    "</tr></table>\n"
   ]
  },
  {
   "cell_type": "markdown",
   "metadata": {},
   "source": [
    "## <font size=4> 2.4 Résumé <br> </font>\n",
    "\n",
    "En résumé, la variation de $r$ influence : \n",
    "\n",
    "- L'amplitude (plus $r$ augmente, plus l'amplitude augmente)\n",
    "- La stationnarité (plus $r$ augmente, plus la stationnarité est atteinte rapidement)\n",
    "\n",
    "La variation de $L$ influence :\n",
    "\n",
    "- La longueur d'onde (plus $L$ augmente, plus la longueur d'onde augmente)\n",
    "- La stationnarité (plus $L$ augmente, plus la stationnarité est atteinte lentement)"
   ]
  },
  {
   "cell_type": "markdown",
   "metadata": {
    "pycharm": {
     "name": "#%% md\n"
    }
   },
   "source": [
    "# <font size=5> 3. Caractérisation de la bifurcation <br> </font>\n",
    "***\n",
    "\n",
    "Il nous a ensuite été demandé de charactériser la bifurcation de la norme des pattern de stationnarité avec $r$ comme paramètre de contrôle. En outre, il nous était demandé de calculer <br><br>\n",
    "\n",
    "$$A^2 = \\frac{1}{L}\\lim_{t \\to +\\infty}\\int_0^L u^2(x,t)dx$$ <br>\n",
    "\n",
    "En fonction de différentes valeurs de r, et d'ensuite faire un graphe de l'amplitude en fonction de $r$. \n",
    "\n",
    "Afin de calculer numériquement la valeur de $A^2$, nous avons tiré profit du fait que l'intégrale $\\frac{1}{L}\\int_0^L u^2(x,t)dx$ représente la moyenne de $u^2$ sur son domaine et que la limite de $t$ qui tend vers l'infini signifie simplement que l'on considère une solution stationnaire. <br>\n",
    "\n",
    "Voici le résultat obtenu : \n",
    "\n",
    "<img src=\"figures/spectral/Loi_r_p.png\" width = \"600\"> <br>\n",
    "\n",
    "Comme nous nous y attendions, le graphe ressemble à une transition de phase avec un point critique à $r = 0$, c'est à dire que $A = 0$ pour $r < 0$ et $A > 0$ pour $r > 0$.<br>\n",
    "\n",
    "Nous avons également tenté d'estimer la loi d'échelle $A ~ r^p$ pour $r\\rightarrow 0^+$ à l'aide de la fonction curve_fit de la librairie scipy et avons obtenu que $r \\approx 1.151r^{0.294} - 0.364$, ce qui signifie que $p$ est de l'ordre de 0.3."
   ]
  },
  {
   "cell_type": "code",
   "execution_count": 3,
   "metadata": {
    "pycharm": {
     "name": "#%%\n"
    }
   },
   "outputs": [
    {
     "data": {
      "image/png": "[encoded data removed]",
      "text/plain": [
       "<Figure size 432x288 with 1 Axes>"
      ]
     },
     "metadata": {
      "needs_background": "light"
     },
     "output_type": "display_data"
    }
   ],
   "source": [
    "N = 1024\n",
    "L = 100\n",
    "x = np.linspace(0,L-L/N,N)\n",
    "dt = 0.05\n",
    "k = np.linspace(-N/2,N/2-1,N)\n",
    "un0 = np.cos(2*np.pi*x/L) + 0.1*np.cos(4*np.pi*x/L)\n",
    "uk0 = np.fft.fftshift(np.fft.fft(un0))\n",
    "A = []\n",
    "r = np.arange(-0.2, 0.82, 0.02)\n",
    "\n",
    "for a in range(len(r)):\n",
    "    if r[a] <= 0:\n",
    "        Nt = int(200/dt)\n",
    "        t = np.linspace(0,200,Nt)\n",
    "        uk = np.zeros((Nt, N),dtype=complex)\n",
    "        un = np.zeros((Nt, N))\n",
    "        uk[0] = uk0\n",
    "        un[0] = un0\n",
    "        fl = r[a] - 1 + 2*((2*np.pi*k/L)**2) - ((2*np.pi*k/L)**4)\n",
    "        Fu = np.fft.fftshift(np.fft.fft(un[0]**3))\n",
    "        uk[1] = ((1+0.5*dt*fl)/(1-0.5*dt*fl))*uk[0] + dt*((Fu)/(1-0.5*dt*fl))\n",
    "        un[1] = (np.fft.ifft(np.fft.ifftshift(uk[1]))).real\n",
    "        for i in range(2,Nt):\n",
    "            Fu = np.fft.fftshift(np.fft.fft(un[i-1]**3))\n",
    "            FuAv = np.fft.fftshift(np.fft.fft(un[i-2]**3))\n",
    "            uk[i] = ((1+0.5*dt*fl)/(1-0.5*dt*fl))*uk[i-1] - dt*((1.5*Fu-0.5*FuAv)/(1-0.5*dt*fl))\n",
    "            un[i] = (np.fft.ifft(np.fft.ifftshift(uk[i]))).real\n",
    "        A.append((np.mean(un[-1]**2))**0.5)\n",
    "    elif 0<r[a]<0.12:\n",
    "        Nt = int(400/dt)\n",
    "        t = np.linspace(0,400,Nt)\n",
    "        uk = np.zeros((Nt, N),dtype=complex)\n",
    "        un = np.zeros((Nt, N))\n",
    "        uk[0] = uk0\n",
    "        un[0] = un0\n",
    "        fl = r[a] - 1 + 2*((2*np.pi*k/L)**2) - ((2*np.pi*k/L)**4)\n",
    "        Fu = np.fft.fftshift(np.fft.fft(un[0]**3))\n",
    "        uk[1] = ((1+0.5*dt*fl)/(1-0.5*dt*fl))*uk[0] + dt*((Fu)/(1-0.5*dt*fl))\n",
    "        un[1] = (np.fft.ifft(np.fft.ifftshift(uk[1]))).real\n",
    "        for i in range(2,Nt):\n",
    "            Fu = np.fft.fftshift(np.fft.fft(un[i-1]**3))\n",
    "            FuAv = np.fft.fftshift(np.fft.fft(un[i-2]**3))\n",
    "            uk[i] = ((1+0.5*dt*fl)/(1-0.5*dt*fl))*uk[i-1] - dt*((1.5*Fu-0.5*FuAv)/(1-0.5*dt*fl))\n",
    "            un[i] = (np.fft.ifft(np.fft.ifftshift(uk[i]))).real\n",
    "        A.append((np.mean(un[-1]**2))**0.5)\n",
    "    elif 0.1<r[a]<0.22:\n",
    "        Nt = int(300/dt)\n",
    "        t = np.linspace(0,300,Nt)\n",
    "        uk = np.zeros((Nt, N),dtype=complex)\n",
    "        un = np.zeros((Nt, N))\n",
    "        uk[0] = uk0\n",
    "        un[0] = un0\n",
    "        fl = r[a] - 1 + 2*((2*np.pi*k/L)**2) - ((2*np.pi*k/L)**4)\n",
    "        Fu = np.fft.fftshift(np.fft.fft(un[0]**3))\n",
    "        uk[1] = ((1+0.5*dt*fl)/(1-0.5*dt*fl))*uk[0] + dt*((Fu)/(1-0.5*dt*fl))\n",
    "        un[1] = (np.fft.ifft(np.fft.ifftshift(uk[1]))).real\n",
    "        for i in range(2,Nt):\n",
    "            Fu = np.fft.fftshift(np.fft.fft(un[i-1]**3))\n",
    "            FuAv = np.fft.fftshift(np.fft.fft(un[i-2]**3))\n",
    "            uk[i] = ((1+0.5*dt*fl)/(1-0.5*dt*fl))*uk[i-1] - dt*((1.5*Fu-0.5*FuAv)/(1-0.5*dt*fl))\n",
    "            un[i] = (np.fft.ifft(np.fft.ifftshift(uk[i]))).real\n",
    "        A.append((np.mean(un[-1]**2))**0.5)\n",
    "    elif 0.2<r[a]<0.32:\n",
    "        Nt = int(200/dt)\n",
    "        t = np.linspace(0,200,Nt)\n",
    "        uk = np.zeros((Nt, N),dtype=complex)\n",
    "        un = np.zeros((Nt, N))\n",
    "        uk[0] = uk0\n",
    "        un[0] = un0\n",
    "        fl = r[a] - 1 + 2*((2*np.pi*k/L)**2) - ((2*np.pi*k/L)**4)\n",
    "        Fu = np.fft.fftshift(np.fft.fft(un[0]**3))\n",
    "        uk[1] = ((1+0.5*dt*fl)/(1-0.5*dt*fl))*uk[0] + dt*((Fu)/(1-0.5*dt*fl))\n",
    "        un[1] = (np.fft.ifft(np.fft.ifftshift(uk[1]))).real\n",
    "        for i in range(2,Nt):\n",
    "            Fu = np.fft.fftshift(np.fft.fft(un[i-1]**3))\n",
    "            FuAv = np.fft.fftshift(np.fft.fft(un[i-2]**3))\n",
    "            uk[i] = ((1+0.5*dt*fl)/(1-0.5*dt*fl))*uk[i-1] - dt*((1.5*Fu-0.5*FuAv)/(1-0.5*dt*fl))\n",
    "            un[i] = (np.fft.ifft(np.fft.ifftshift(uk[i]))).real\n",
    "        A.append((np.mean(un[-1]**2))**0.5)\n",
    "    elif 0.3<r[a]<0.62:\n",
    "        Nt = int(100/dt)\n",
    "        t = np.linspace(0,100,Nt)\n",
    "        uk = np.zeros((Nt, N),dtype=complex)\n",
    "        un = np.zeros((Nt, N))\n",
    "        uk[0] = uk0\n",
    "        un[0] = un0\n",
    "        fl = r[a] - 1 + 2*((2*np.pi*k/L)**2) - ((2*np.pi*k/L)**4)\n",
    "        Fu = np.fft.fftshift(np.fft.fft(un[0]**3))\n",
    "        uk[1] = ((1+0.5*dt*fl)/(1-0.5*dt*fl))*uk[0] + dt*((Fu)/(1-0.5*dt*fl))\n",
    "        un[1] = (np.fft.ifft(np.fft.ifftshift(uk[1]))).real\n",
    "        for i in range(2,Nt):\n",
    "            Fu = np.fft.fftshift(np.fft.fft(un[i-1]**3))\n",
    "            FuAv = np.fft.fftshift(np.fft.fft(un[i-2]**3))\n",
    "            uk[i] = ((1+0.5*dt*fl)/(1-0.5*dt*fl))*uk[i-1] - dt*((1.5*Fu-0.5*FuAv)/(1-0.5*dt*fl))\n",
    "            un[i] = (np.fft.ifft(np.fft.ifftshift(uk[i]))).real\n",
    "        A.append((np.mean(un[-1]**2))**0.5)\n",
    "    elif 0.6<r[a]<0.72:\n",
    "        Nt = int(75/dt)\n",
    "        t = np.linspace(0,75,Nt)\n",
    "        uk = np.zeros((Nt, N),dtype=complex)\n",
    "        un = np.zeros((Nt, N))\n",
    "        uk[0] = uk0\n",
    "        un[0] = un0\n",
    "        fl = r[a] - 1 + 2*((2*np.pi*k/L)**2) - ((2*np.pi*k/L)**4)\n",
    "        Fu = np.fft.fftshift(np.fft.fft(un[0]**3))\n",
    "        uk[1] = ((1+0.5*dt*fl)/(1-0.5*dt*fl))*uk[0] + dt*((Fu)/(1-0.5*dt*fl))\n",
    "        un[1] = (np.fft.ifft(np.fft.ifftshift(uk[1]))).real\n",
    "        for i in range(2,Nt):\n",
    "            Fu = np.fft.fftshift(np.fft.fft(un[i-1]**3))\n",
    "            FuAv = np.fft.fftshift(np.fft.fft(un[i-2]**3))\n",
    "            uk[i] = ((1+0.5*dt*fl)/(1-0.5*dt*fl))*uk[i-1] - dt*((1.5*Fu-0.5*FuAv)/(1-0.5*dt*fl))\n",
    "            un[i] = (np.fft.ifft(np.fft.ifftshift(uk[i]))).real\n",
    "        A.append((np.mean(un[-1]**2))**0.5)\n",
    "    elif 0.7<r[a]<0.82:\n",
    "        Nt = int(50/dt)\n",
    "        t = np.linspace(0,50,Nt)\n",
    "        uk = np.zeros((Nt, N),dtype=complex)\n",
    "        un = np.zeros((Nt, N))\n",
    "        uk[0] = uk0\n",
    "        un[0] = un0\n",
    "        fl = r[a] - 1 + 2*((2*np.pi*k/L)**2) - ((2*np.pi*k/L)**4)\n",
    "        Fu = np.fft.fftshift(np.fft.fft(un[0]**3))\n",
    "        uk[1] = ((1+0.5*dt*fl)/(1-0.5*dt*fl))*uk[0] + dt*((Fu)/(1-0.5*dt*fl))\n",
    "        un[1] = (np.fft.ifft(np.fft.ifftshift(uk[1]))).real\n",
    "        for i in range(2,Nt):\n",
    "            Fu = np.fft.fftshift(np.fft.fft(un[i-1]**3))\n",
    "            FuAv = np.fft.fftshift(np.fft.fft(un[i-2]**3))\n",
    "            uk[i] = ((1+0.5*dt*fl)/(1-0.5*dt*fl))*uk[i-1] - dt*((1.5*Fu-0.5*FuAv)/(1-0.5*dt*fl))\n",
    "            un[i] = (np.fft.ifft(np.fft.ifftshift(uk[i]))).real\n",
    "        A.append((np.mean(un[-1]**2))**0.5)\n",
    "\n",
    "plt.plot(r,A, '-o',label='Données empiriques')\n",
    "\n",
    "\n",
    "\n",
    "r2 = []\n",
    "A2 = []\n",
    "for i in range(len(r)):\n",
    "    if r[i]>0:\n",
    "        r2.append(r[i])\n",
    "        A2.append(A[i])\n",
    "\n",
    "from scipy.optimize import curve_fit\n",
    "def func(x, a, b, c):\n",
    "    return a * ((x)**b) + c\n",
    "popt, pcov = curve_fit(func, r2, A2)\n",
    "plt.plot(r2, func(r2, *popt), 'r-', label='Fit : $%5.3f \\cdot r^{%5.3f} {%5.3f}$' % tuple(popt))\n",
    "\n",
    "plt.legend()\n",
    "plt.xlabel('r')\n",
    "plt.ylabel('A')\n",
    "plt.show()"
   ]
  },
  {
   "cell_type": "code",
   "execution_count": null,
   "metadata": {
    "pycharm": {
     "name": "#%%\n"
    }
   },
   "outputs": [],
   "source": []
  }
 ],
 "metadata": {
  "kernelspec": {
   "display_name": "Python 3",
   "language": "python",
   "name": "python3"
  },
  "language_info": {
   "codemirror_mode": {
    "name": "ipython",
    "version": 3
   },
   "file_extension": ".py",
   "mimetype": "text/x-python",
   "name": "python",
   "nbconvert_exporter": "python",
   "pygments_lexer": "ipython3",
   "version": "3.7.4"
  }
 },
 "nbformat": 4,
 "nbformat_minor": 5
}
