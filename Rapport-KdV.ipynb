{
 "cells": [
  {
   "cell_type": "markdown",
   "metadata": {},
   "source": [
    " <center><font size=4> Université Catholique de Louvain </center>\n",
    " <h1><center><font size=5> [LPHYS1303] - Simulation Numérique Physique </center></h1>\n",
    " <h1><center><font size=6> Projet Différences Finies : Soliton & KdV Equation </center></h1>\n",
    " <h1><center><font size=4> \n",
    "     Guillaume Léonard : ... <br>\n",
    "     Sacha Duynslaeger : 509519000 <br>\n",
    "     </center></h1>\n",
    "\n",
    "<img src=\"figures/ucl.png\" width = \"200\">\n",
    "\n",
    "__________________________\n",
    "<br> <br>"
   ]
  },
  {
   "cell_type": "markdown",
   "metadata": {},
   "source": [
    "Intro ...<br><br> \n",
    "\n",
    "<font size=4> KdV Equation : <br> </font>\n",
    "    \n",
    "  <center> $\\Large \\frac{\\partial u}{\\partial t} + u\\frac{\\partial u}{\\partial x} + \\delta^2\\frac{\\partial^3 u}{\\partial x^3} = 0 $  <br> </center>\n",
    "\n",
    "<br>"
   ]
  },
  {
   "cell_type": "markdown",
   "metadata": {},
   "source": [
    "# <font size=5> 1. Schéma Upwind <br><br> </font>\n",
    "\n",
    "Formulation discrète : <br><br>\n",
    "\n",
    "<center>$u_{i,j+1} = u_{i,j} - 6\\frac{\\Delta t}{\\Delta x}u_{i,j}(u_{i,j} - u_{i-1,j}) - \\frac{\\Delta t}{2(\\Delta x)^3}(u_{i+2,j} - 2u_{i+1,j} + 2u_{i-1,j} - u_{i-2,j})$\n",
    "</center> <br>\n",
    "\n",
    "## <font size=4> 1.1 Consistance du schéma <br> </font>\n",
    "    \n",
    "    ...\n",
    "\n",
    "## <font size=4> 1.2 Stencil </font>\n",
    "\n",
    "<img src=\"figures/upwind_stencil.png\" width = \"800\">\n",
    "\n",
    "## <font size=4> 1.3 Condition de stabilité <br> </font>\n",
    "\n",
    "    ...\n"
   ]
  },
  {
   "cell_type": "markdown",
   "metadata": {},
   "source": [
    "# <font size=5> 2. Schéma de Zabusky et Kruskal <br><br> </font>\n",
    "\n",
    "Formulation discrète : <br><br>\n",
    "\n",
    "<center>$u_{i,j+1} = u_{i,j-1} - \\frac{1}{3}\\frac{\\Delta t}{\\Delta x}(u_{i+1,j} + u_{i,j} + u_{i-1,j})(u_{i+1,j} - u_{i-1,j}) - \\delta^2\\frac{\\Delta t}{(\\Delta x)^3}(u_{i+2,j} - 2u_{i+1,j} + 2u_{i-1,j} - u_{i-2,j})$\n",
    "</center> <br>\n",
    "    \n",
    "## <font size=4> 2.1 Consistance du schéma <br> </font>\n",
    "    \n",
    "    ...\n",
    "\n",
    "## <font size=4> 2.2 Ordre de convergence <br> </font>\n",
    "\n",
    "    ...\n"
   ]
  },
  {
   "cell_type": "markdown",
   "metadata": {},
   "source": [
    "# <font size=5> 3. Visualisation <br> </font>\n",
    "    \n",
    "Discrétisation utilisée : \n",
    "    \n",
    "Condition initiale et paramètres : \n",
    "        \n",
    "    "
   ]
  },
  {
   "cell_type": "code",
   "execution_count": null,
   "metadata": {},
   "outputs": [],
   "source": [
    "#Code utilisé pour la visualisation \n"
   ]
  },
  {
   "cell_type": "markdown",
   "metadata": {},
   "source": [
    "# <font size=5> 4. Analyse des résultats <br> </font>\n"
   ]
  },
  {
   "cell_type": "code",
   "execution_count": null,
   "metadata": {},
   "outputs": [],
   "source": []
  }
 ],
 "metadata": {
  "kernelspec": {
   "display_name": "Python 3",
   "language": "python",
   "name": "python3"
  },
  "language_info": {
   "codemirror_mode": {
    "name": "ipython",
    "version": 3
   },
   "file_extension": ".py",
   "mimetype": "text/x-python",
   "name": "python",
   "nbconvert_exporter": "python",
   "pygments_lexer": "ipython3",
   "version": "3.7.4"
  }
 },
 "nbformat": 4,
 "nbformat_minor": 2
}
