{
 "cells": [
  {
   "cell_type": "markdown",
   "metadata": {
    "pycharm": {
     "name": "#%% md\n"
    }
   },
   "source": [
    "<center><font size=4> Université Catholique de Louvain </center>\n",
    " <h1><center><font size=5> LPHYS1303 - Simulation Numérique en Physique </center></h1>\n",
    " <h1><center><font size=6> Projet Différences Finies : Soliton & KdV Equation </center></h1>\n",
    " <h1><center><font size=4>\n",
    "     Duynslaeger Sacha : 50951900 <br>\n",
    "     Léonard Guillaume : 16321800 <br>\n",
    "     </center></h1>\n",
    "\n",
    "<img src=\"figures/ucl.png\" width = \"200\">\n",
    "\n",
    "__________________________\n",
    "<br> <br>"
   ]
  },
  {
   "cell_type": "markdown",
   "metadata": {
    "pycharm": {
     "name": "#%% md\n"
    }
   },
   "source": [
    "# <font size=5> 0. Introduction <br> </font>\n",
    "***\n",
    "L'objectif de ce projet est d'illustrer un certain phénomène de propagation d'onde se déplaçant à une vitesse proportionnelle à sa hauteur et interagissant non destructivement avec un autre paquet d'onde. Ce phénomène porte le nom de soliton et se produit pour les vagues en faible profondeur. L'équation dont ces solitons sont solutions est la suivante: <br>\n",
    "\n",
    "<center> $\\Large \\frac{\\partial u}{\\partial t} + u\\frac{\\partial u}{\\partial x} + \\delta^2\\frac{\\partial^3 u}{\\partial x^3} = 0. $  <br> </center>\n",
    "\n",
    "Cette équation, dénommée l'équation de Korteweg-de Vries (KdV), décrit donc l’évolution de la hauteur $u$ d’un fluide peu profond en fonction du temps, en tenant compte des effets d’advection, de gradient de pression (derivée première dans l’espace) et de dissipation visqueuse (derivée troisième). <br>\n",
    "\n",
    "Pour simuler correctement ce modèle mathématique de façon numérique, il faut tout d'abord choisir un schéma numérique. Dans ce projet, deux schémas sont étudiés: un schéma Upwind et un schéma leap-frog (proposé par Zabusky et Kruskal). Le schéma Upwind est analysé pour en déterminer sa consistance, son stencil et ses conditions de stabilité. Quant au schéma leap-frog, sa consistance et son ordre de convergence sont démontrés. Par la suite, un dépassement d’une onde lente par une onde rapide est illustré grâce à un code Python. Pour conclure, une discussion des choix et des résultats de cette simulation est effectuée.\n",
    "\n",
    "<br>"
   ]
  },
  {
   "cell_type": "markdown",
   "source": [
    "# <font size=5> 1. Schéma Upwind <br> </font>\n",
    "***\n",
    "Formulation discrète : <br><br>\n",
    "\n",
    "Considérant le fait que la vague se déplace vers la droite (comme expliqué dans l'énoncé), nous avons $u > 0$ ce qui nous permet d'obtenir : <br><br>\n",
    "$$u_{i,j+1} = u_{i,j} - \\frac{\\Delta t}{\\Delta x}u_{i,j}\n",
    "    (u_{i,j} - u_{i-1,j}) - \\delta^2\\frac{\\Delta t}{2(\\Delta x)^3}(u_{i+2,j} - 2u_{i+1,j} + 2u_{i-1,j} - u_{i-2,j})$$\n",
    "<br>\n",
    "\n",
    "Avec les $i$ étant les indices spaciaux et les $j$ les indices temporels. <br>\n",
    "\n",
    "Pour la suite, nous utiliserons $k = \\Delta t$ et $h = \\Delta x$ <br><br>\n",
    "\n",
    "\n",
    "## <font size=4> 1.1 Démonstration de la formule discrète <br> </font>\n",
    "\n",
    "Pour passer de la formulation forte du problème à la formulation discrète, nous allons utiliser le théorème de Taylor-Young qui stipule qu'une fonction $f$ n-fois dérivable peut être approchée autour du point x par : <br>\n",
    "$$f(x+a) = \\sum_{k = 0}^{n} \\frac{f^{(k)}(x)}{k!}a^k + R_n(a)$$\n",
    "avec $R_n(a)$ le reste. <br><br>\n",
    "\n",
    "Nous allons poser que $u(x,t) = u_{i,j}$, ce qui nous permet d'écrire pour le schéma numérique que $u(x + h,t) = u_{i+1,j}$. <br> En utilisant le théorème de Taylor-Young, on prouve que : <br>\n",
    "$$u_{i+1,j} = u_{i,j} + h \\frac{du}{dx} + ... + h^n\\frac{1}{n!}\\frac{d^n u}{dt^n} + R_n(h)$$ <br>\n",
    "\n",
    "Ce qui nous sera utile pour discrétiser chaque terme de la formulation forte l'équation de KdV. <br><br>\n",
    "\n",
    "- $\\Large\\frac{du}{dt}$: \n",
    "$$u_{i,j+1} = u_{i,j} + k \\frac{du}{dt} + \\mathcal{O}(k^2)$$ <br>\n",
    "$$\\Leftrightarrow \\frac{du}{dt} = \\frac{u_{i,j+1} - u_{i,j}}{k} + \\mathcal{O}(k)$$  <br>\n",
    "\n",
    "- $\\Large\\frac{du}{dx}$: \n",
    "$$u_{i-1,j} = u_{i,j} - h \\frac{du}{dx} + \\mathcal{O}(h^2)$$ <br>\n",
    "$$\\Leftrightarrow \\frac{du}{dx} = \\frac{u_{i,j} - u_{i-1,j}}{h} + \\mathcal{O}(h)$$ <br>\n",
    "\n",
    "- $\\Large\\frac{d^3u}{dx^3}$: \n",
    "$$u_{i+2,j} = u_{i,j} + 2h \\frac{du}{dx} + \\frac{(2h)^2}{2!} \\frac{d^2u}{dx^2} + \\frac{(2h)^3}{3!} \\frac{d^3u}{dx^3} + \\frac{(2h)^4}{4!} \\frac{d^4u}{dx^4} + \\mathcal{O}(h^5) \\tag{1.1}$$<br> \n",
    "    \n",
    "$$u_{i+1,j} = u_{i,j} + h \\frac{du}{dx} + \\frac{h^2}{2!} \\frac{d^2u}{dx^2} + \\frac{h^3}{3!} \\frac{d^3u}{dx^3} + \\frac{h^4}{4!} \\frac{d^4u}{dx^4} + \\mathcal{O}(h^5) \\tag{1.2}$$ <br>\n",
    "\n",
    "$$u_{i-1,j} = u_{i,j} - h \\frac{du}{dx} + \\frac{h^2}{2!} \\frac{d^2u}{dx^2} - \\frac{h^3}{3!} \\frac{d^3u}{dx^3} + \\frac{h^4}{4!} \\frac{d^4u}{dx^4} + \\mathcal{O}(h^5) \\tag{1.3}$$<br>\n",
    "\n",
    "$$u_{i-2,j} = u_{i,j} - 2h \\frac{du}{dx} + \\frac{(2h)^2}{2!} \\frac{d^2u}{dx^2} - \\frac{(2h)^3}{3!} \\frac{d^3u}{dx^3} + \\frac{(2h)^4}{4!} \\frac{d^4u}{dx^4} + \\mathcal{O}(h^5) \\tag{1.4}$$<br><br>\n",
    "\n",
    "En appliquant la combinaison linéaire : $$(1.1) - 2\\cdot(1.2) + 2\\cdot(1.3) - (1.4)$$<br>\n",
    "\n",
    "On obtient : $$u_{i+2,j} - 2u_{i+1,j} + 2u_{i-1,j} - u_{i-2,j} = \\frac{12h^3}{6} \\frac{d^3u}{dx^3} + \\mathcal{O}(h^5)$$ <br>\n",
    "\n",
    "Ce qui nous permet de trouver finalement :\n",
    "$$\\frac{d^3u}{dx^3} = \\frac{u_{i+2,j} - 2u_{i+1,j} + 2u_{i-1,j} - u_{i-2,j}}{2h^3} + \\mathcal{O}(h^2)$$  <br><br>\n",
    "\n",
    "Il suffit alors d'additionner les trois termes développés ci dessus, d'égaler l'équation obtenue à zéro et d'isoler $u_{i,j+1}$ en supprimant les termes de troncature afin de retrouver la formulation discrète. <br>\n",
    "\n",
    "$$\\frac{\\partial u}{\\partial t} + u\\frac{\\partial u}{\\partial x} + \\delta^2\\frac{\\partial^3 u}{\\partial x^3} = 0$$\n",
    "\n",
    "En passant par les polynômes de Taylor : <br>\n",
    "$$\\Leftrightarrow \\frac{u_{i,j+1} - u_{i,j}}{k} + u_{i,j}\\frac{u_{i,j} - u_{i-1,j}}{h} + \\delta^2 \\frac{u_{i+2,j} - 2u_{i+1,j} + 2u_{i-1,j} - u_{i-2,j}}{2h^3} + \\mathcal{O}(k) + \\mathcal{O}(h) + \\mathcal{O}(h^2) = 0 \\tag{1.5}$$\n",
    "\n",
    "En supprimant les termes de troncature et en isolant $u_{i,j+1}$ : <br> \n",
    "$$\\Leftrightarrow u_{i,j+1} = u_{i,j} - \\frac{k}{h}u_{i,j}\n",
    "    (u_{i,j} - u_{i-1,j}) - \\frac{\\delta^2 k}{2 h^3}(u_{i+2,j} - 2u_{i+1,j} + 2u_{i-1,j} - u_{i-2,j}) $$\n",
    "\n",
    "## <font size=4> 1.2 Consistance du schéma <br> </font>\n",
    "\n",
    "Pour prouver la consistance du schéma upwind, reprenons l'équation $(1.5)$ : <br>\n",
    "$$\\frac{u_{i,j+1} - u_{i,j}}{k} + \\frac{u_{i+1,j} - u_{i,j}}{h} + \\frac{u_{i+2,j} - 2u_{i+1,j} + 2u_{i-1,j} - u_{i-2,j}}{2h^3} + \\mathcal{O}(k) + \\mathcal{O}(h) + \\mathcal{O}(h^2) = 0$$\n",
    "\n",
    "On observe que l'erreur de troncature $\\tau$ est de l'ordre de $\\mathcal{O}(k) + \\mathcal{O}(h)$ .<br>\n",
    "Dès lors, lorsque k$\\rightarrow$0 et h$\\rightarrow$0, l'erreur de troncature $\\tau$ tend vers $0$, ce qui prouve la consistance du schéma. \n",
    "\n",
    "## <font size=4> 1.3 Stencil <br> </font>\n",
    "\n",
    "<img src=\"figures/upwind_stencil.png\" width = \"800\">\n",
    "\n",
    "## <font size=4> 1.4 Condition de stabilité <br> </font>\n",
    "\n",
    "Si on fixe $u_{i,j}$ par une constante $u_0 (>0)$  dans le terme $u\\frac{du}{dx}$ et avec $u_{i,j} = w_{j} e^{irx_{i}}$ (exponentielle complexe avec $w_{j}=\\kappa^{j} w_0$ où $\\kappa$ est le facteur d'amplification): <br>\n",
    "\n",
    "$$w_{j+1} e^{irx_{i}} = w_{j} e^{irx_{i}} - u_0 \\frac{k}{h} (w_{j} e^{irx_{i}}-w_{j} e^{irx_{i-1}}) - \\frac{\\delta^2 k}{2h^3} (w_{j} e^{irx_{i+2}}-2w_{j} e^{irx_{i+1}} + 2w_{j} e^{irx_{i-1}} - w_{j} e^{irx_{i-2}})$$\n",
    "<br>\n",
    "\n",
    "Comme $x_{i+1} = x_{i} + h$, l'équation devient: <br>\n",
    "$$w_{j+1} e^{irx_{i}} = w_{j} e^{irx_{i}} - u_0 \\frac{k}{h} w_{j} e^{irx_{i}} (1-e^{-irh}) - \\frac{\\delta^2 k}{2h^3} w_{j} e^{irx_{i}} (e^{2irh}-2e^{irh} + 2e^{-irh} - e^{-2irh})$$ <br>\n",
    "$$\\Leftrightarrow \\kappa = 1 - u_0 \\frac{k}{h} (1-e^{-irh}) - \\frac{\\delta^2 k}{2h^3} (e^{2irh}-2e^{irh} + 2e^{-irh} - e^{-2irh})$$ <br>\n",
    "$$\\Leftrightarrow \\kappa = 1 - u_0 \\frac{k}{h} [1-cos(rh)+i sin(rh)] - \\frac{\\delta^2 k}{2h^3} [2i sin(2rh) - 4i sin(rh)]$$ <br>\n",
    "$$\\Leftrightarrow \\kappa = 1 - \\alpha [1-cos(rh)+i sin(rh)] - \\beta [4i sin(rh) \\cdot (cos(rh)-1)]$$ <br>\n",
    "<br>\n",
    "\n",
    "La condition de stabilité est donc : $|\\kappa| \\leq 1$. On peut avoir une idée de la stabilité en comparant sa valeur au cercle unité complexe. Ceci est montré sur l'image suivante.\n",
    "\n",
    "<img src=\"figures/Fact_amplification_dans_cercle_unité.png\" width = \"800\">\n",
    "\n",
    "On peut également multiplié $\\kappa$ par sa valeur complexe conjugé $\\kappa ^*$ pour avoir une condition de stabilité réelle : $|\\kappa|^2 \\leq 1$. <br>\n",
    "\n",
    "$$ |\\kappa|^2 = \\kappa \\cdot \\kappa ^* = (1 - \\alpha [1-cos(rh)+i sin(rh)] - \\beta [4i sin(rh) \\cdot (cos(rh)-1)]) \\cdot (1 - \\alpha [1-cos(rh)-i sin(rh)] - \\beta [-4i sin(rh) \\cdot (cos(rh)-1)]) $$ <br>\n",
    "$$\\Leftrightarrow |\\kappa|^2 = 1 - [(1-cos(rh)) \\cdot (2\\alpha - 2\\alpha ^2)] + [(1-cos^2(rh)) \\cdot ((cos(rh)-1) (16\\beta ^2 (cos(rh)-1) + 8\\alpha \\beta)] $$ <br>\n",
    "\n",
    "<img src=\"figures/kappa2_against_C_for_stability_criterion.png\" width = \"800\">"
   ],
   "metadata": {
    "collapsed": false,
    "pycharm": {
     "name": "#%% md\n"
    }
   }
  },
  {
   "cell_type": "markdown",
   "source": [
    "# <font size=5> 2. Schéma de Zabusky et Kruskal <br> </font>\n",
    "***\n",
    "Formulation discrète : <br><br>\n",
    "\n",
    "$$u_{i,j+1} = u_{i,j-1} - \\frac{1}{3}\\frac{\\Delta t}{\\Delta x}(u_{i+1,j} + u_{i,j} + u_{i-1,j})(u_{i+1,j} - u_{i-1,j}) - \\delta^2\\frac{\\Delta t}{(\\Delta x)^3}(u_{i+2,j} - 2u_{i+1,j} + 2u_{i-1,j} - u_{i-2,j})$$\n",
    "<br>\n",
    "\n",
    "Pour la suite, nous utiliserons $k = \\Delta t$ et $h = \\Delta x$ <br>\n",
    "\n",
    "## <font size=4> 2.1 Démonstration de la formulation discrète <br> </font>\n",
    "\n",
    "La démonstration de la formulation discrète pour le schéma de Zabusky et Kruskal est très similaire à celle du schéma upwind. <br><br>\n",
    "\n",
    "- $\\Large \\frac{du}{dt}$: \n",
    "$$u_{i,j+1} = u_{i,j} + k \\frac{du}{dt} + \\frac{k^2}{2!} \\frac{d^2u}{dt^2} + \\mathcal{O}(k^3) \\tag{2.1}$$ <br>\n",
    "$$u_{i,j-1} = u_{i,j} - k \\frac{du}{dt} + \\frac{k^2}{2!} \\frac{d^2u}{dt^2} + \\mathcal{O}(k^3) \\tag{2.2}$$ <br>\n",
    "\n",
    "En appliquant la combinaison linéaire : $$(2.1) - (2.2)$$ <br>\n",
    "\n",
    "On obtient :\n",
    "$$u_{i,j+1} - u_{i,j-1} = 2k \\frac{du}{dt} + \\mathcal{O}(k^3)$$ <br>\n",
    "$$\\Leftrightarrow \\frac{du}{dt} = \\frac{u_{i,j+1} - u_{i,j-1}}{2k} + \\mathcal{O}(k^2)$$ <br>\n",
    "\n",
    "\n",
    "- $\\Large u\\frac{du}{dx}$: \n",
    "\n",
    "$$u_{i+1,j} = u_{i,j} + h \\frac{du}{dx} + \\frac{h^2}{2!} \\frac{d^2u}{dx^2} + \\frac{h^3}{3!} \\frac{d^3u}{dx^3} + ... \\tag{2.3}$$ <br>\n",
    "$$u_{i-1,j} = u_{i,j} - h \\frac{du}{dx} + \\frac{h^2}{2!} \\frac{d^2u}{dx^2} - \\frac{h^3}{3!} \\frac{d^3u}{dx^3} + ... \\tag{2.4}$$ <br>\n",
    "    \n",
    "En appliquant la combinaison : <br> $$(2.3) + u_{i,j} + (2.4)$$\n",
    "\n",
    "On obtient :\n",
    "$$u_{i+1,j} + u_{i,j} + u_{i-1,j} = 3u_{i,j} + h^2 \\frac{d^2u}{dx^2} + \\frac{h^4}{12} \\frac{d^4u}{dx^4} + ... \\tag{2.5}$$ <br>\n",
    "\n",
    "En appliquant la combinaison linéaire : <br> $$(2.3) - (2.4)$$\n",
    "\n",
    "On obtient :\n",
    "$$u_{i+1,j} - u_{i-1,j} = 2h \\frac{du}{dx} + \\frac{h^3}{3} \\frac{d^3u}{dx^3} + \\frac{h^5}{60} \\frac{d^5u}{dx^5} + ... \\tag{2.6}$$ <br>\n",
    "\n",
    "Ensuite, en appliquant la combinaison linéaire : <br> $$(2.5)\\cdot(2.6)$$\n",
    "\n",
    "On obtient :\n",
    "$$(u_{i+1,j} + u_{i,j} + u_{i-1,j})(u_{i+1,j} - u_{i-1,j}) = 6h u_{i,j} \\frac{du}{dx} + \\mathcal{O}(h^3)$$ <br>\n",
    "$$\\Leftrightarrow u\\frac{du}{dx} = \\frac{(u_{i+1,j} + u_{i,j} + u_{i-1,j})(u_{i+1,j} - u_{i-1,j})}{6h} + \\mathcal{O}(h^2)$$ <br>\n",
    "\n",
    "\n",
    "- $\\Large\\frac{d^3u}{dx^3}$: \n",
    "$$u_{i+2,j} = u_{i,j} + 2h \\frac{du}{dx} + \\frac{(2h)^2}{2!} \\frac{d^2u}{dx^2} + \\frac{(2h)^3}{3!} \\frac{d^3u}{dx^3} + \\frac{(2h)^4}{4!} \\frac{d^4u}{dx^4} + \\mathcal{O}(h^5) \\tag{2.7}$$ <br>\n",
    "\n",
    "$$u_{i+1,j} = u_{i,j} + h \\frac{du}{dx} + \\frac{h^2}{2!} \\frac{d^2u}{dx^2} + \\frac{h^3}{3!} \\frac{d^3u}{dx^3} + \\frac{h^4}{4!} \\frac{d^4u}{dx^4} + \\mathcal{O}(h^5) \\tag{2.8}$$ <br>\n",
    "\n",
    "$$u_{i-1,j} = u_{i,j} - h \\frac{du}{dx} + \\frac{h^2}{2!} \\frac{d^2u}{dx^2} - \\frac{h^3}{3!} \\frac{d^3u}{dx^3} + \\frac{h^4}{4!} \\frac{d^4u}{dx^4} + \\mathcal{O}(h^5) \\tag{2.9}$$ <br>\n",
    "\n",
    "$$u_{i-2,j} = u_{i,j} - 2h \\frac{du}{dx} + \\frac{(2h)^2}{2!} \\frac{d^2u}{dx^2} - \\frac{(2h)^3}{3!} \\frac{d^3u}{dx^3} + \\frac{(2h)^4}{4!} \\frac{d^4u}{dx^4} + \\mathcal{O}(h^5) \\tag{2.10}$$ <br>\n",
    "\n",
    "En appliquant la combinaison linéaire : <br>\n",
    "$$(2.7) - 2\\cdot(2.8) + 2\\cdot(2.9) - (2.10)$$\n",
    "\n",
    "On obtient \n",
    "$$u_{i+2,j} - 2u_{i+1,j} + 2u_{i-1,j} - u_{i-2,j} = \\frac{12h^3}{6} \\frac{d^3u}{dx^3} + \\mathcal{O}(h^5)$$ <br>\n",
    "$$\\Leftrightarrow \\frac{d^3u}{dx^3} = \\frac{u_{i+2,j} - 2u_{i+1,j} + 2u_{i-1,j} - u_{i-2,j}}{2h^3} + \\mathcal{O}(h^2)$$<br>\n",
    "\n",
    "Il suffit alors d'additionner les trois termes développés ci-dessus, d'égaler l'équation obtenue à zéro et d'isoler $u_{i,j+1}$ en supprimant les termes de troncature afin de retrouver la formulation discrète proposée par Zabusky et Kruskal. <br>\n",
    "\n",
    "$$\\frac{\\partial u}{\\partial t} + u\\frac{\\partial u}{\\partial x} + \\delta^2\\frac{\\partial^3 u}{\\partial x^3} = 0$$\n",
    "\n",
    "En passant par les polynômes de Taylor : <br>\n",
    "$$\\Leftrightarrow\\frac{u_{i,j+1} - u_{i,j-1}}{2k} + \\frac{(u_{i+1,j} + u_{i,j} + u_{i-1,j})(u_{i+1,j} - u_{i-1,j})}{6h} + \\delta^2\\frac{u_{i+2,j} - 2u_{i+1,j} + 2u_{i-1,j} - u_{i-2,j}}{2h^3} + \\mathcal{O}(k^2) + \\mathcal{O}(h^2) + \\mathcal{O}(h^2) = 0 \\tag{2.11}$$\n",
    "\n",
    "En supprimant les termes de troncature et en isolant $u_{i,j+1}$ : <br> \n",
    "$$\\Leftrightarrow u_{i,j+1} = u_{i,j-1} - \\frac{1}{3}\\frac{k}{h}(u_{i+1,j} + u_{i,j} + u_{i-1,j})(u_{i+1,j} - u_{i-1,j}) - \\frac{\\delta^2 k}{h^3}(u_{i+2,j} - 2u_{i+1,j} + 2u_{i-1,j} - u_{i-2,j})$$\n",
    "\n",
    "\n",
    "\n",
    "## <font size=4> 2.2 Ordre de convergence et consistance <br> </font>\n",
    "\n",
    "Pour calculer l'ordre de convergence du schéma et prouver sa consistance, reprenons l'équation $(2.11)$ : <br>\n",
    "\n",
    "$$\\frac{\\partial u}{\\partial t} + u\\frac{\\partial u}{\\partial x} + \\delta^2\\frac{\\partial^3 u}{\\partial x^3} = \\frac{u_{i,j+1} - u_{i,j-1}}{2k} + \\frac{(u_{i+1,j} + u_{i,j} + u_{i-1,j})(u_{i+1,j} - u_{i-1,j})}{6h} + \\delta^2\\frac{u_{i+2,j} - 2u_{i+1,j} + 2u_{i-1,j} - u_{i-2,j}}{2h^3} + \\mathcal{O}(k^2) + \\mathcal{O}(h^2) + \\mathcal{O}(h^2)$$\n",
    "\n",
    "On observe dès lors que l'erreur de troncature $\\tau$ est de l'ordre de $\\mathcal{O}(k^2) + \\mathcal{O}(h^2)$. <br>\n",
    "Lorsque k$\\rightarrow$0 et h$\\rightarrow$0, l'erreur de troncature $\\tau$ tend vers $0$, ce qui prouve la consistance du schéma. \n"
   ],
   "metadata": {
    "collapsed": false,
    "pycharm": {
     "name": "#%% md\n"
    }
   }
  },
  {
   "cell_type": "markdown",
   "source": [
    "# <font size=5> 3. Visualisation <br> </font>\n",
    "***\n",
    "Discrétisation utilisée :\n",
    "\n",
    "Condition initiale et paramètres :\n",
    "\n"
   ],
   "metadata": {
    "collapsed": false,
    "pycharm": {
     "name": "#%% md\n"
    }
   }
  },
  {
   "cell_type": "code",
   "execution_count": null,
   "outputs": [],
   "source": [
    "#Code utilisé pour la visualisation\n",
    "# Install a pip package in the current Jupyter kernel\n",
    "#import sys\n",
    "#!{sys.executable} -m pip install matplotlib\n",
    "\n",
    "''' Import Module'''\n",
    "import numpy as np\n",
    "import matplotlib.pyplot as plt\n",
    "\n",
    "''' Data '''\n",
    "dx = 0.1739\n",
    "N = int(2*np.pi/dx)+1\n",
    "x = np.arange(-np.pi,np.pi,dx)\n",
    "dt = 0.0002\n",
    "Nt = int(20/dt)\n",
    "t = np.arange(0,20,dt)\n",
    "\n",
    "delta = 0.022\n",
    "A = 1\n",
    "k = (A/2)**0.5\n",
    "w = 4*k**3\n",
    "\n",
    "''' Solution exacte '''\n",
    "uexact = np.zeros((Nt, N))\n",
    "for j in range(Nt):\n",
    "    uexact[j] = A/(np.cosh(k*x-w*t[j])**2)\n"
   ],
   "metadata": {
    "collapsed": false,
    "pycharm": {
     "name": "#%%\n",
     "is_executing": true
    }
   }
  },
  {
   "cell_type": "code",
   "execution_count": null,
   "outputs": [],
   "source": [
    "# Upwind\n",
    "u = np.zeros((Nt, N))\n",
    "u0 = A/(np.cosh(k*x)**2)\n",
    "u[0] = u0\n",
    "\n",
    "for j in range(Nt-1):\n",
    "    for i in range(0,N-2):\n",
    "        if u[j][i]>0:\n",
    "            u[j+1][i] = u[j][i] - (dt/dx)*u[j][i]*(u[j][i]-u[j][i-1]) - ((dt*delta**2)/(2*dx**3))*(u[j][i+2]-2*u[j][i+1]+2*u[j][i-1]-u[j][i-2])\n",
    "        else:\n",
    "            u[j+1][i] = u[j][i] - (dt/dx)*u[j][i]*(u[j][i+1]-u[j][i]) - ((dt*delta**2)/(2*dx**3))*(u[j][i+2]-2*u[j][i+1]+2*u[j][i-1]-u[j][i-2])\n",
    "    if u[j][N-2]>0:\n",
    "        u[j+1][N-2] = u[j][N-2] - (dt/dx)*u[j][N-2]*(u[j][N-2]-u[j][N-3]) - ((dt*delta**2)/(2*dx**3))*(u[j][0]-2*u[j][N-1]+2*u[j][N-3]-u[j][N-4])\n",
    "    else:\n",
    "        u[j+1][N-2] = u[j][N-2] - (dt/dx)*u[j][N-2]*(u[j][N-1]-u[j][N-2]) - ((dt*delta**2)/(2*dx**3))*(u[j][0]-2*u[j][N-1]+2*u[j][N-3]-u[j][N-4])\n",
    "    if u[j][N-1]>0:\n",
    "        u[j+1][N-1] = u[j][N-1] - (dt/dx)*u[j][N-1]*(u[j][N-1]-u[j][N-2]) - ((dt*delta**2)/(2*dx**3))*(u[j][1]-2*u[j][0]+2*u[j][N-2]-u[j][N-3])\n",
    "    else:\n",
    "        u[j+1][N-1] = u[j][N-1] - (dt/dx)*u[j][N-1]*(u[j][0]-u[j][N-1]) - ((dt*delta**2)/(2*dx**3))*(u[j][1]-2*u[j][0]+2*u[j][N-2]-u[j][N-3])\n",
    "\n",
    "time = 1\n",
    "plt.plot(x,uexact[time],label='sol exacte')\n",
    "plt.plot(x,u[time],label='sol num')\n",
    "plt.legend()\n",
    "plt.show()\n",
    "\n",
    "\"\"\"\n",
    "for n in range(0,Nt,5):\n",
    "    if n==0: fig, ax = plt.subplots(figsize=(5.5,4))\n",
    "    plt.clf()\n",
    "    plt.plot(x,u[n,:])\n",
    "    plt.scatter(x,uexact[n,:])\n",
    "    plt.gca().legend(('numerique','exact'))\n",
    "    plt.gca()\n",
    "    plt.title('coucou')\n",
    "    plt.xlabel('x')\n",
    "    plt.ylabel('u')\n",
    "    plt.subplots_adjust(left=0.2)\n",
    "    plt.subplots_adjust(bottom=0.18)\n",
    "    plt.draw()\n",
    "    plt.pause(0.001)\n",
    "plt.show()\n",
    "\"\"\"\n",
    "\n",
    "[xx,tt]=np.meshgrid(x,t)\n",
    "plt.contourf(xx,tt,u, cmap = 'jet')\n",
    "plt.colorbar()\n",
    "plt.xlabel('x')\n",
    "plt.ylabel('t')\n",
    "plt.show()"
   ],
   "metadata": {
    "collapsed": false,
    "pycharm": {
     "name": "#%%\n"
    }
   }
  },
  {
   "cell_type": "code",
   "execution_count": 9,
   "metadata": {
    "pycharm": {
     "name": "#%%\n"
    }
   },
   "outputs": [
    {
     "data": {
      "image/png": "[encoded data removed]",
      "text/plain": [
       "<Figure size 432x288 with 1 Axes>"
      ]
     },
     "metadata": {
      "needs_background": "light"
     },
     "output_type": "display_data"
    },
    {
     "data": {
      "image/png": "[encoded data removed]",
      "text/plain": [
       "<Figure size 432x288 with 2 Axes>"
      ]
     },
     "metadata": {
      "needs_background": "light"
     },
     "output_type": "display_data"
    }
   ],
   "source": [
    "# Leap-frog (Zabusky et Kruskal)\n",
    "un = np.zeros((Nt, N))\n",
    "un0 = A/(np.cosh(k*x)**2)\n",
    "un[0] = un0\n",
    "\n",
    "un[1] = un0\n",
    "for i in range(0,N-2):\n",
    "    un[1][i] = un[0][i] - (dt/(3*dx))*(un[0][i+1]+un[0][i]+un[0][i-1])*(un[0][i+1]-un[0][i-1]) - (dt*delta*delta/(2*dx**3))*(un[0][i+2]-2*un[0][i+1]+2*un[0][i-1]-un[0][i-2])\n",
    "un[1][N-2] = un[0][N-2] - (dt/(3*dx))*(un[1][N-1]+un[1][N-2]+un[1][N-3])*(un[1][N-1]-un[1][N-3]) - ((dt*delta*delta)/(dx**3))*(un[1][0]-2*un[1][N-1]+2*un[1][N-3]-un[1][N-4])\n",
    "un[1][N-1] = un[0][N-1] - (dt/(3*dx))*(un[1][0]+un[1][N-1]+un[1][N-2])*(un[1][0]-un[1][N-2]) - ((dt*delta*delta)/(dx**3))*(un[1][1]-2*un[1][0]+2*un[1][N-2]-un[1][N-3])\n",
    "\n",
    "for j in range(1,Nt-1):\n",
    "    for i in range(0,N-2):\n",
    "        un[j+1][i] = un[j-1][i] - (dt/(3*dx))*(un[j][i+1]+un[j][i]+un[j][i-1])*(un[j][i+1]-un[j][i-1]) - ((dt*delta*delta)/(dx**3))*(un[j][i+2]-2*un[j][i+1]+2*un[j][i-1]-un[j][i-2])\n",
    "    un[j+1][N-2] = un[j-1][N-2] - (dt/(3*dx))*(un[j][N-1]+un[j][N-2]+un[j][N-3])*(un[j][N-1]-un[j][N-3]) - ((dt*delta*delta)/(dx**3))*(un[j][0]-2*un[j][N-1]+2*un[j][N-3]-un[j][N-4])\n",
    "    un[j+1][N-1] = un[j-1][N-1] - (dt/(3*dx))*(un[j][0]+un[j][N-1]+un[j][N-2])*(un[j][0]-un[j][N-2]) - ((dt*delta*delta)/(dx**3))*(un[j][1]-2*un[j][0]+2*un[j][N-2]-un[j][N-3])\n",
    "\n",
    "time = 1\n",
    "plt.plot(x,uexact[time],label='sol exacte')\n",
    "plt.plot(x,un[time],label='sol num')\n",
    "plt.legend()\n",
    "plt.show()\n",
    "\n",
    "\"\"\"\n",
    "for n in range(0,Nt,int(Nt/100)):\n",
    "    if n==0: fig, ax = plt.subplots(figsize=(5.5,4))\n",
    "    plt.clf()\n",
    "    plt.plot(x,un[n,:])\n",
    "    plt.scatter(x,uexact[n,:])\n",
    "    plt.gca().legend(('numerique','exact'))\n",
    "    plt.gca()\n",
    "    plt.title('coucou')\n",
    "    plt.xlabel('x')\n",
    "    plt.ylabel('u')\n",
    "    plt.subplots_adjust(left=0.2)\n",
    "    plt.subplots_adjust(bottom=0.18)\n",
    "    plt.draw()\n",
    "    plt.pause(0.001)\n",
    "plt.show()\n",
    "\"\"\"\n",
    "\n",
    "\n",
    "[xx,tt]=np.meshgrid(x,t)\n",
    "plt.contourf(xx,tt,un, cmap = 'jet')\n",
    "plt.colorbar()\n",
    "plt.xlabel('x')\n",
    "plt.ylabel('t')\n",
    "plt.show()"
   ]
  },
  {
   "cell_type": "markdown",
   "metadata": {
    "pycharm": {
     "name": "#%% md\n"
    }
   },
   "source": [
    "# <font size=5> 4. Analyse des résultats <br> </font>\n",
    "***"
   ]
  },
  {
   "cell_type": "markdown",
   "metadata": {
    "pycharm": {
     "name": "#%% md\n"
    }
   },
   "source": []
  }
 ],
 "metadata": {
  "kernelspec": {
   "display_name": "Python 3",
   "language": "python",
   "name": "python3"
  },
  "language_info": {
   "codemirror_mode": {
    "name": "ipython",
    "version": 3
   },
   "file_extension": ".py",
   "mimetype": "text/x-python",
   "name": "python",
   "nbconvert_exporter": "python",
   "pygments_lexer": "ipython3",
   "version": "3.7.4"
  }
 },
 "nbformat": 4,
 "nbformat_minor": 1
}